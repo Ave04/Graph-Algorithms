{
 "cells": [
  {
   "cell_type": "code",
   "execution_count": null,
   "id": "1809d5c5-f110-4bae-9789-bc2aff4edf80",
   "metadata": {},
   "outputs": [],
   "source": [
    "# Simple BFS\n",
    "# Can try with deque from collections\n",
    "# Adapt to grids"
   ]
  },
  {
   "cell_type": "code",
   "execution_count": 2,
   "id": "dfe67e92-3ae0-47e8-826f-5adf13ebb99a",
   "metadata": {},
   "outputs": [],
   "source": [
    "def BFS(graph, start_node):\n",
    "    visited = set()\n",
    "    node_list = [start_node]\n",
    "\n",
    "    while node_list:\n",
    "        node = node_list.pop(0)\n",
    "\n",
    "        if node not in visited:\n",
    "            print(node)\n",
    "            visited.add(node)\n",
    "            for next in graph[node]:\n",
    "                if next not in visited:\n",
    "                    node_list.append(neighbor)"
   ]
  },
  {
   "cell_type": "code",
   "execution_count": 6,
   "id": "a64da2f2-4182-450a-a6ec-0568b7355206",
   "metadata": {},
   "outputs": [
    {
     "name": "stdout",
     "output_type": "stream",
     "text": [
      "5\n",
      "8\n",
      "9\n"
     ]
    }
   ],
   "source": [
    "graph = {\n",
    "    '1': ['2', '3', '4'],\n",
    "    '2': ['5'],\n",
    "    '3': ['6'],\n",
    "    '4': ['7'],\n",
    "    '5': ['8', '9'],\n",
    "    '6': ['10'],\n",
    "    '7': [],\n",
    "    '8': [],\n",
    "    '9': [],\n",
    "    '10': []\n",
    "}\n",
    "\n",
    "BFS(graph, '5')"
   ]
  },
  {
   "cell_type": "code",
   "execution_count": null,
   "id": "503b4dc7-21be-41fd-b875-e0248fb5cfa7",
   "metadata": {},
   "outputs": [],
   "source": []
  }
 ],
 "metadata": {
  "kernelspec": {
   "display_name": "Python 3 (ipykernel)",
   "language": "python",
   "name": "python3"
  },
  "language_info": {
   "codemirror_mode": {
    "name": "ipython",
    "version": 3
   },
   "file_extension": ".py",
   "mimetype": "text/x-python",
   "name": "python",
   "nbconvert_exporter": "python",
   "pygments_lexer": "ipython3",
   "version": "3.10.8"
  }
 },
 "nbformat": 4,
 "nbformat_minor": 5
}
