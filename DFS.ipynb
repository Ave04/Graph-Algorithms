{
 "cells": [
  {
   "cell_type": "code",
   "execution_count": 1,
   "id": "f15afa5f-2442-47bf-9146-c96f97091262",
   "metadata": {},
   "outputs": [],
   "source": [
    "# Recursive implementation of DFS\n",
    "# Can try iterative --> using a stack"
   ]
  },
  {
   "cell_type": "code",
   "execution_count": 13,
   "id": "e223bbaa-47cc-4912-bee5-7b12a2be1906",
   "metadata": {},
   "outputs": [],
   "source": [
    "def DFS(graph, start_node,visited):\n",
    "    if visited == None:\n",
    "        visited = set()\n",
    "\n",
    "    if start_node not in visited:\n",
    "        print(start_node)  \n",
    "        visited.add(start_node)\n",
    "\n",
    "        for next in graph[start_node]:\n",
    "            DFS(graph, next, visited)\n",
    "    "
   ]
  },
  {
   "cell_type": "code",
   "execution_count": 14,
   "id": "a8c31d5d-7407-4285-9ccc-bb199611360c",
   "metadata": {},
   "outputs": [
    {
     "name": "stdout",
     "output_type": "stream",
     "text": [
      "1\n",
      "2\n",
      "5\n",
      "8\n",
      "9\n",
      "3\n",
      "6\n",
      "10\n",
      "4\n",
      "7\n"
     ]
    }
   ],
   "source": [
    "graph = {\n",
    "    '1': ['2', '3', '4'],\n",
    "    '2': ['5'],\n",
    "    '3': ['6'],\n",
    "    '4': ['7'],\n",
    "    '5': ['8', '9'],\n",
    "    '6': ['10'],\n",
    "    '7': [],\n",
    "    '8': [],\n",
    "    '9': [],\n",
    "    '10': []\n",
    "}\n",
    "\n",
    "visited = None\n",
    "DFS(graph, '1', visited)"
   ]
  },
  {
   "cell_type": "code",
   "execution_count": null,
   "id": "9863b81b-c1bd-44b8-925c-36c12f396ebd",
   "metadata": {},
   "outputs": [],
   "source": []
  }
 ],
 "metadata": {
  "kernelspec": {
   "display_name": "Python 3 (ipykernel)",
   "language": "python",
   "name": "python3"
  },
  "language_info": {
   "codemirror_mode": {
    "name": "ipython",
    "version": 3
   },
   "file_extension": ".py",
   "mimetype": "text/x-python",
   "name": "python",
   "nbconvert_exporter": "python",
   "pygments_lexer": "ipython3",
   "version": "3.10.8"
  }
 },
 "nbformat": 4,
 "nbformat_minor": 5
}
